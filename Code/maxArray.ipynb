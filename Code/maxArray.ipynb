{
  "nbformat": 4,
  "nbformat_minor": 0,
  "metadata": {
    "colab": {
      "provenance": [],
      "authorship_tag": "ABX9TyOBNcaiidj6jLdeJXINfQYt",
      "include_colab_link": true
    },
    "kernelspec": {
      "name": "python3",
      "display_name": "Python 3"
    },
    "language_info": {
      "name": "python"
    }
  },
  "cells": [
    {
      "cell_type": "markdown",
      "metadata": {
        "id": "view-in-github",
        "colab_type": "text"
      },
      "source": [
        "<a href=\"https://colab.research.google.com/github/hrbae/DS_Algorithm/blob/main/Code/maxArray.ipynb\" target=\"_parent\"><img src=\"https://colab.research.google.com/assets/colab-badge.svg\" alt=\"Open In Colab\"/></a>"
      ]
    },
    {
      "cell_type": "code",
      "execution_count": 1,
      "metadata": {
        "id": "w-24dpswRVPS"
      },
      "outputs": [],
      "source": [
        "from random import *\n"
      ]
    },
    {
      "cell_type": "code",
      "source": [
        "n = int(input(\"몇 개의 숫자를 생성할까요?\")) # 사용자의 입력을 받아 들이는 부분\n"
      ],
      "metadata": {
        "colab": {
          "base_uri": "https://localhost:8080/"
        },
        "id": "f-bBYJZbRdxs",
        "outputId": "00049d65-b400-47b6-8545-c62fbedfee6c"
      },
      "execution_count": 2,
      "outputs": [
        {
          "name": "stdout",
          "output_type": "stream",
          "text": [
            "몇 개의 숫자를 생성할까요?10\n"
          ]
        }
      ]
    },
    {
      "cell_type": "code",
      "source": [
        "A=[]\n",
        "for i in range(0, n):\n",
        "  A.append(randint(1,100))"
      ],
      "metadata": {
        "id": "W8T9XMSrRgWz"
      },
      "execution_count": 3,
      "outputs": []
    },
    {
      "cell_type": "code",
      "source": [
        "print(A)"
      ],
      "metadata": {
        "colab": {
          "base_uri": "https://localhost:8080/"
        },
        "id": "ghmMpvHsRrQr",
        "outputId": "16e66707-e1aa-412b-b24c-e23b398e46b9"
      },
      "execution_count": 4,
      "outputs": [
        {
          "output_type": "stream",
          "name": "stdout",
          "text": [
            "[36, 55, 88, 80, 70, 88, 44, 40, 74, 60]\n"
          ]
        }
      ]
    },
    {
      "cell_type": "code",
      "source": [
        "def maxArray(A):\n",
        "  max=-1\n",
        "  for i in range(len(A)):\n",
        "    if A[i]>max:\n",
        "      max=A[i]\n",
        "  return max"
      ],
      "metadata": {
        "id": "BE0hbsSjRtYv"
      },
      "execution_count": 5,
      "outputs": []
    },
    {
      "cell_type": "code",
      "source": [
        "m=maxArray(A)\n",
        "\n",
        "print(\"가장 큰 숫자는:\", m)"
      ],
      "metadata": {
        "colab": {
          "base_uri": "https://localhost:8080/"
        },
        "id": "Ug_gYHGyR9j5",
        "outputId": "946e39e6-efee-4433-9875-2789b09c59b5"
      },
      "execution_count": 6,
      "outputs": [
        {
          "output_type": "stream",
          "name": "stdout",
          "text": [
            "가장 큰 숫자는: 88\n"
          ]
        }
      ]
    }
  ]
}